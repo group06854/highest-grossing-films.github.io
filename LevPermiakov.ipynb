{
  "nbformat": 4,
  "nbformat_minor": 0,
  "metadata": {
    "colab": {
      "provenance": []
    },
    "kernelspec": {
      "name": "python3",
      "display_name": "Python 3"
    },
    "language_info": {
      "name": "python"
    }
  },
  "cells": [
    {
      "cell_type": "code",
      "execution_count": 1,
      "metadata": {
        "colab": {
          "base_uri": "https://localhost:8080/"
        },
        "id": "MoxEO-J8N9Uf",
        "outputId": "4278c591-80b4-497f-b68f-2d34371ffabb"
      },
      "outputs": [
        {
          "output_type": "stream",
          "name": "stdout",
          "text": [
            "[(1, 'Avatar', '2009', ['James Cameron'], '2,923,706,026', ['United Kingdom', 'United States']), (2, 'Avengers: Endgame', '2019', ['Anthony Russo', 'Joe Russo'], '2,797,501,328', ['United States']), (3, 'Avatar: The Way of Water', '2022', ['James Cameron'], '2,320,250,281', ['United States']), (4, 'Titanic', '1997', ['James Cameron'], '2,257,844,554', ['United States']), (5, 'Star Wars: The Force Awakens', '2015', ['J. J. Abrams'], '2,068,223,624', ['United States']), (6, 'Avengers: Infinity War', '2018', ['Anthony Russo', 'Joe Russo'], '2,048,359,754', ['United States']), (7, 'Ne Zha 2', '2025', ['Anthony Russo', 'Joe Russo'], '1,983,302,560', ['China']), (8, 'Spider-Man: No Way Home', '2021', ['Jon Watts'], '1,922,598,800', ['United States']), (9, 'Inside Out 2', '2024', ['Kelsey Mann'], '1,698,863,816', ['United States']), (10, 'Jurassic World', '2015', ['Colin Trevorrow'], '1,671,537,444', ['United States']), (11, 'The Lion King', '2019', ['Jon Favreau'], '1,656,943,394', ['United States']), (12, 'The Avengers', '2012', ['Joss Whedon'], '1,518,815,515', ['United States']), (13, 'Furious 7', '2015', ['James Wan'], '1,515,341,399', ['United States']), (14, 'Top Gun: Maverick', '2022', ['Joseph Kosinski'], '1,495,696,292', ['United States']), (15, 'Frozen 2', '2019', ['Chris Buck', 'Jennifer Lee'], '1,450,026,933', ['United States']), (16, 'Barbie', '2023', ['Greta Gerwig'], '1,447,038,421', ['United States', 'United Kingdom']), (17, 'Avengers: Age of Ultron', '2015', ['Joss Whedon'], '1,402,809,540', ['United States']), (18, 'The Super Mario Bros. Movie', '2023', ['Aaron Horvath', 'Michael Jelenic'], '1,362,566,989', ['United States']), (19, 'Black Panther', '2018', ['Ryan Coogler'], '1,347,280,838', ['United States']), (20, 'Harry Potterand the Deathly Hallows – Part 2', '2011', ['David Yates'], '1,342,139,727', ['United Kingdom', 'United States']), (21, 'Deadpool & Wolverine', '2024', ['Shawn Levy'], '1,338,073,645', ['United States']), (22, 'Star Wars: The Last Jedi', '2017', ['Rian Johnson'], '1,332,539,889', ['United States']), (23, 'Jurassic World: Fallen Kingdom', '2018', ['J. A. Bayona'], '1,308,473,425', ['China', 'United States']), (24, 'Frozen', '2013', ['Chris Buck', 'Jennifer Lee'], '1,290,000,000', ['United States']), (25, 'Beauty and the Beast', '2017', ['Bill Condon'], '1,263,521,126', ['United States']), (26, 'Incredibles 2', '2018', ['Brad Bird'], '1,242,805,359', ['United States']), (27, 'The Fate of the Furious', '2017', ['F. Gary Gray'], '1,238,764,765', ['United States', 'China']), (28, 'Iron Man 3', '2013', ['Shane Black'], '1,214,811,252', ['United States']), (29, 'Minions', '2015', ['Pierre Coffin', 'Kyle Balda'], '1,159,444,662', ['United States']), (30, 'Captain America: Civil War', '2016', ['Anthony Russo', 'Joe Russo'], '1,153,337,496', ['United States']), (31, 'Aquaman', '2018', ['James Wan'], '1,148,528,393', ['United States']), (32, 'The Lord of the Rings:The Return of the King', '2003', ['Peter Jackson'], '1,147,997,407', ['New Zealand', 'Germany', 'United States']), (33, 'Spider-Man: Far From Home', '2019', ['Jon Watts'], '1,132,679,685', ['United States']), (34, 'Captain Marvel', '2019', ['Anna Boden', 'Ryan Fleck'], '1,128,274,794', ['United States']), (35, 'Transformers: Dark of the Moon', '2011', ['Michael Bay'], '1,123,794,079', ['United States']), (36, 'Skyfall', '2012', ['Sam Mendes'], '1,108,594,137', ['United Kingdom', 'United States']), (37, 'Transformers: Age of Extinction', '2014', ['Michael Bay'], '1,104,054,072', ['United States']), (38, 'The Dark Knight Rises', '2012', ['Christopher Nolan'], '1,081,169,825', ['United States', 'United Kingdom']), (39, 'Joker', '2019', ['Todd Phillips'], '1,074,458,282', ['United States']), (40, 'Star Wars: The Rise of Skywalker', '2019', ['J. J. Abrams'], '1,074,144,248', ['United States']), (41, 'Toy Story 4', '2019', ['Josh Cooley'], '1,073,394,593', ['United States']), (42, 'Toy Story 3', '2010', ['Lee Unkrich'], '1,066,970,811', ['United States']), (43, \"Pirates of the Caribbean:Dead Man's Chest\", '2006', ['Gore Verbinski'], '1,066,179,747', ['United States']), (44, 'Rogue One: A Star Wars Story', '2016', ['Gareth Edwards'], '1,057,420,387', ['United States']), (45, 'Moana 2', '2024', ['David Derrick Jr.', 'Jason Hand', 'Dana Ledoux Miller'], '1,053,578,188', ['United States']), (46, 'Aladdin', '2019', ['Guy Ritchie'], '1,050,693,953', ['United States']), (47, 'Star Wars: Episode I –The Phantom Menace', '1999', ['George Lucas'], '1,046,515,409', ['United States']), (48, 'Pirates of the Caribbean:On Stranger Tides', '2011', ['Rob Marshall'], '1,045,713,802', ['United States']), (49, 'Jurassic Park', '1993', ['Steven Spielberg'], '1,037,535,230', ['United States']), (50, 'Despicable Me 3', '2017', ['Pierre Coffin', 'Kyle Balda'], '1,034,800,131', ['United States'])]\n"
          ]
        }
      ],
      "source": [
        "import requests\n",
        "from bs4 import BeautifulSoup\n",
        "import pandas as pd\n",
        "url = \"https://en.wikipedia.org/wiki/List_of_highest-grossing_films#Highest-grossing_films\"\n",
        "response = requests.get(url)\n",
        "soup = BeautifulSoup(response.text, \"html.parser\")\n",
        "Data = []\n",
        "id=0\n",
        "#get data from wiki\n",
        "for element in soup.find_all([\"tbody\"]):#find tag tbody\n",
        "  if element.find(\"th\", class_ =\"unsortable\"):#find tag th\n",
        "    for row_element in element.find_all(\"th\", scope = \"row\"):\n",
        "      box = row_element.find_next(\"td\")#find tag td\n",
        "      box_office = box.find(string=True, recursive=False).replace(\"\\n\",\"\").replace(\"$\",\"\")#get box_office\n",
        "      release_year = box.find_next(\"td\").get_text(strip = True)#gwt release_year\n",
        "      link = \"https://en.wikipedia.org/\" + row_element.find(\"a\").get('href')#find a link on a film\n",
        "      res = requests.get(link)#get data from page of film\n",
        "      s = BeautifulSoup(res.text, \"html.parser\")\n",
        "      for inf in s.find_all(\"tbody\"):#find tag tbody\n",
        "        if inf.find(\"th\", class_ = 'infobox-above summary')!=None:\n",
        "          title = inf.find(\"th\", class_ = 'infobox-above summary').get_text(strip=True)#find tag th\n",
        "        if inf.find(\"th\", class_ = 'infobox-label')!=None:\n",
        "          if inf.find(\"th\", class_ = 'infobox-label').get_text(strip=True) == \"Directed by\":#get directors\n",
        "            author = inf.find(\"td\", class_ = 'infobox-data')\n",
        "            director=[]\n",
        "            if author.find_all(string = True):\n",
        "              if author.find_all('ul'):\n",
        "                for i in author.find_all(\"li\"):\n",
        "                  director.append(i.find(string=True))\n",
        "              elif title.count(\"Captain Marvel\"):#exceptions\n",
        "                for i in author.find(\"a\").find_all(string= True):\n",
        "                  director.append(i)\n",
        "              else:\n",
        "                for i in author:\n",
        "                  if i.find(string=True, recursive=False):\n",
        "                    director.append(i.find(string=True))\n",
        "            if title.count(\"Captain America: Civil War\"):#exceptions\n",
        "              director.remove(\"Anthony Russo\")\n",
        "            if director.count(None):\n",
        "              director.remove(None)\n",
        "        if title.count(\"Pirate\"):#exceptions\n",
        "            country_header = inf.find('th', string=lambda text: text and \"Country\" in text)\n",
        "            country_html = country_header.find_next(\"td\")\n",
        "            country = [country_html.find(string=True, recursive=False)]\n",
        "            break#get title and directors name\n",
        "\n",
        "        country_header = inf.find('th', string=lambda text: text and \"Country\" in text)#get country\n",
        "        if country_header:\n",
        "          country_html = country_header.find_next(\"td\")\n",
        "          country = [country_html.find(string=True, recursive=False)]\n",
        "        country_header = inf.find('th', string=lambda text: text and \"Countries\" in text)\n",
        "        if country_header:\n",
        "          if title.count(\"7\"):#exceptions\n",
        "            country_html = country_header.find_next(\"td\")\n",
        "            country = [country_html.find(string=True, recursive=False)[:-1]]\n",
        "          else:\n",
        "            list = country_header.find_next(\"ul\")\n",
        "            country = []\n",
        "            for li in list.find_all(\"li\"):\n",
        "              country.append(li.find(string=True, recursive=False))#get country\n",
        "      id+=1\n",
        "      film = (id, title, release_year, director, box_office, country)\n",
        "      Data.append(film)\n",
        "print(Data)#create a array with data"
      ]
    },
    {
      "cell_type": "code",
      "source": [
        "import json\n",
        "film_list = []\n",
        "for film in Data:\n",
        "    film_dict = {\n",
        "        \"id\": film[0],\n",
        "        \"title\": film[1],\n",
        "        \"release_year\": film[2],\n",
        "        \"director\": film[3],\n",
        "        \"box_office\": film[4],\n",
        "        \"country\": film[5]\n",
        "    }\n",
        "    film_list.append(film_dict)#structure of json\n",
        "with open('film.json', 'w', encoding='utf-8') as f:\n",
        "    json.dump(film_list, f, ensure_ascii=False, indent=2)#create json from array"
      ],
      "metadata": {
        "id": "FFgVjWp35SJf"
      },
      "execution_count": 14,
      "outputs": []
    },
    {
      "cell_type": "code",
      "source": [
        "import sqlite3\n",
        "\n",
        "conn = sqlite3.connect('films.db')\n",
        "cursor = conn.cursor()#create db\n",
        "\n",
        "cursor.execute('''CREATE TABLE IF NOT EXISTS movies (\n",
        "                    id INTEGER PRIMARY KEY,\n",
        "                    title TEXT NOT NULL,\n",
        "                    release_year  INTEGER,\n",
        "                    director TEXT,\n",
        "                    box_office TEXT,\n",
        "                    country TEXT)''')#create table\n",
        "\n",
        "for movie in Data:\n",
        "    cursor.execute('''INSERT INTO movies\n",
        "                      VALUES (?, ?, ?, ?, ?, ?)''',\n",
        "                   (movie[0],\n",
        "                    movie[1],\n",
        "                    movie[2],\n",
        "                    ', '.join(movie[3]),\n",
        "                    movie[4],\n",
        "                    ', '.join(movie[5])))#save data to table\n",
        "\n",
        "conn.commit()\n",
        "conn.close()#create a file with database from array"
      ],
      "metadata": {
        "id": "qwfk9Mtx6MjB"
      },
      "execution_count": 2,
      "outputs": []
    }
  ]
}